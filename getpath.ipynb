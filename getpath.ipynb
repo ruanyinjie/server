{
 "cells": [
  {
   "cell_type": "markdown",
   "id": "2b50c0d5",
   "metadata": {},
   "source": [
    "# Description of the simulation of path-decision algorithm in edge computing\n",
    "\n"
   ]
  },
  {
   "cell_type": "code",
   "execution_count": 61,
   "id": "7bddb677",
   "metadata": {},
   "outputs": [],
   "source": [
    "import requests\n",
    "import json\n",
    "import datetime\n",
    "cache = {\n",
    "    (\"A\", \"B\"): [\"A\", \"B\", \"C\"],\n",
    "    (\"B\", \"C\"): [\"B\", \"C\", \"D\"],\n",
    "    (\"C\", \"D\"): [\"C\", \"D\", \"E\"]\n",
    "}\n",
    "\n",
    "last_clear_date = datetime.date(2024, 1, 1)"
   ]
  },
  {
   "cell_type": "code",
   "execution_count": 62,
   "id": "479db71d",
   "metadata": {},
   "outputs": [],
   "source": [
    "def get_path(start, destination):\n",
    "    # 检查缓存\n",
    "    if check_cache(start, destination):\n",
    "        path = get_path_from_cache(start, destination)\n",
    "        return path\n",
    "    else:\n",
    "        # 向服务器发送请求\n",
    "        path = request_path_from_server(start, destination)\n",
    "        # 将路径存储到缓存\n",
    "        save_path_to_cache(start, destination, path)\n",
    "        return path\n",
    "\n"
   ]
  },
  {
   "cell_type": "code",
   "execution_count": 63,
   "id": "2327022c",
   "metadata": {},
   "outputs": [],
   "source": [
    "def check_cache(start, destination):\n",
    "    if (start, destination) in cache:\n",
    "        return True\n",
    "    else:\n",
    "        return False\n",
    "\n",
    "def get_path_from_cache(start, destination):\n",
    "    if (start, destination) in cache:\n",
    "        return cache[(start, destination)]\n",
    "    else:\n",
    "        return None\n",
    "\n",
    "\n",
    "def save_path_to_cache(start, destination, path):\n",
    "    cache[(start, destination)] = path"
   ]
  },
  {
   "cell_type": "code",
   "execution_count": 64,
   "id": "ea98d940",
   "metadata": {},
   "outputs": [],
   "source": [
    "def request_path_from_server(start, destination):\n",
    "    # 从客户端访问服务器的IP地址获取路径\n",
    "    ip_address = get_server_ip_address()\n",
    "    path = get_path_from_server(ip_address, start, destination)\n",
    "    \n",
    "    if path is not None:\n",
    "        # 将路径保存到缓存中\n",
    "        save_path_to_cache(start, destination, path)\n",
    "        return path\n",
    "    else:\n",
    "        return None\n"
   ]
  },
  {
   "cell_type": "code",
   "execution_count": 65,
   "id": "45fb720a",
   "metadata": {},
   "outputs": [],
   "source": [
    "def get_path_from_server(ip_address, start, destination):\n",
    "    # 使用IP地址从服务器获取路径\n",
    "    url = f\"http://{ip_address}:5000/calculate\"\n",
    "    payload = {\n",
    "        \"start\": start,\n",
    "        \"destination\": destination\n",
    "    }\n",
    "    \n",
    "    try:\n",
    "        response = requests.post(url, json=payload)\n",
    "        if response.status_code == 200:\n",
    "            data = response.json()\n",
    "            path = data[\"path\"]\n",
    "            return path\n",
    "        else:\n",
    "            return None\n",
    "    except requests.exceptions.RequestException as e:\n",
    "        print(\"Error:\", e)\n",
    "        return None"
   ]
  },
  {
   "cell_type": "code",
   "execution_count": 66,
   "id": "73883987",
   "metadata": {},
   "outputs": [],
   "source": [
    "def get_server_ip_address():\n",
    "    use_default = input(\"是否使用官方服务器？(y/n): \")\n",
    "    \n",
    "    if use_default.lower() == \"y\":\n",
    "        ip_address = \"192.168.0.1\"  # 默认的服务器IP地址\n",
    "    else:\n",
    "        ip_address = input(\"请输入服务器IP地址: \")\n",
    "    \n",
    "    return ip_address"
   ]
  },
  {
   "cell_type": "code",
   "execution_count": 67,
   "id": "da976919",
   "metadata": {},
   "outputs": [],
   "source": [
    "def clear_cache():\n",
    "    # 获取当前日期\n",
    "    current_date = datetime.date.today()\n",
    "    \n",
    "    # 获取上次清空缓存的日期\n",
    "    last_clear_date = get_last_clear_date()\n",
    "    \n",
    "    # 检查是否已经过了一个月\n",
    "    if last_clear_date is None or (current_date.year > last_clear_date.year or\n",
    "                                   current_date.month > last_clear_date.month):\n",
    "        # 清空缓存\n",
    "        clear_cache_data()\n",
    "        \n",
    "        # 更新上次清空缓存的日期为当前日期\n",
    "        update_last_clear_date(current_date)"
   ]
  },
  {
   "cell_type": "code",
   "execution_count": 68,
   "id": "344ec0b0",
   "metadata": {},
   "outputs": [],
   "source": [
    "def get_last_clear_date():\n",
    "    global last_clear_date\n",
    "    return last_clear_date\n",
    "\n",
    "\n",
    "\n",
    "def update_last_clear_date(date):\n",
    "    # 更新上次清空缓存的日期为指定的日期\n",
    "    # 这里假设使用某个方法更新上次清空缓存的日期\n",
    "    last_clear_date = date\n",
    "    save_last_clear_date(last_clear_date)\n",
    "\n",
    "def save_last_clear_date(date):\n",
    "    # 将上次清空缓存的日期保存到某个地方\n",
    "    # 这里假设使用某个方法保存上次清空缓存的日期\n",
    "    global last_clear_date\n",
    "    last_clear_date = date"
   ]
  },
  {
   "cell_type": "code",
   "execution_count": 69,
   "id": "06124d77",
   "metadata": {},
   "outputs": [],
   "source": [
    "def clear_cache_data():\n",
    "    # 清空缓存的数据\n",
    "    # 这里假设使用某个方法清空缓存的数据\n",
    "    cache.clear()"
   ]
  },
  {
   "cell_type": "code",
   "execution_count": 70,
   "id": "883f8fa0",
   "metadata": {},
   "outputs": [],
   "source": [
    "start = 'A'\n",
    "end = 'B'\n",
    "path=get_path(start, end )"
   ]
  },
  {
   "cell_type": "code",
   "execution_count": 71,
   "id": "c0664427",
   "metadata": {},
   "outputs": [
    {
     "data": {
      "text/plain": [
       "['A', 'B', 'C']"
      ]
     },
     "execution_count": 71,
     "metadata": {},
     "output_type": "execute_result"
    }
   ],
   "source": [
    "path"
   ]
  },
  {
   "cell_type": "code",
   "execution_count": 72,
   "id": "2179e248",
   "metadata": {},
   "outputs": [
    {
     "data": {
      "text/plain": [
       "{('A', 'B'): ['A', 'B', 'C'],\n",
       " ('B', 'C'): ['B', 'C', 'D'],\n",
       " ('C', 'D'): ['C', 'D', 'E']}"
      ]
     },
     "execution_count": 72,
     "metadata": {},
     "output_type": "execute_result"
    }
   ],
   "source": [
    "cache"
   ]
  },
  {
   "cell_type": "code",
   "execution_count": 73,
   "id": "5184b36b",
   "metadata": {},
   "outputs": [],
   "source": [
    "clear_cache()"
   ]
  },
  {
   "cell_type": "code",
   "execution_count": 74,
   "id": "cd8f999f",
   "metadata": {},
   "outputs": [
    {
     "data": {
      "text/plain": [
       "{}"
      ]
     },
     "execution_count": 74,
     "metadata": {},
     "output_type": "execute_result"
    }
   ],
   "source": [
    "cache"
   ]
  },
  {
   "cell_type": "code",
   "execution_count": 75,
   "id": "c8dcad2d",
   "metadata": {},
   "outputs": [
    {
     "name": "stdout",
     "output_type": "stream",
     "text": [
      "是否使用官方服务器？(y/n): n\n",
      "请输入服务器IP地址: 10.106.93.3\n"
     ]
    }
   ],
   "source": [
    "start = 'A'\n",
    "end = 'B'\n",
    "path=get_path(start, end )"
   ]
  },
  {
   "cell_type": "code",
   "execution_count": 76,
   "id": "32eddb10",
   "metadata": {},
   "outputs": [
    {
     "data": {
      "text/plain": [
       "['A', 'B', 'C', 'D', 'E']"
      ]
     },
     "execution_count": 76,
     "metadata": {},
     "output_type": "execute_result"
    }
   ],
   "source": [
    "path"
   ]
  },
  {
   "cell_type": "code",
   "execution_count": 77,
   "id": "a4b51908",
   "metadata": {},
   "outputs": [
    {
     "name": "stdout",
     "output_type": "stream",
     "text": [
      "['A', 'B', 'C', 'D', 'E']\n"
     ]
    }
   ],
   "source": [
    "print(path)"
   ]
  },
  {
   "cell_type": "code",
   "execution_count": null,
   "id": "995b6649",
   "metadata": {},
   "outputs": [],
   "source": []
  }
 ],
 "metadata": {
  "kernelspec": {
   "display_name": "Python 3 (ipykernel)",
   "language": "python",
   "name": "python3"
  },
  "language_info": {
   "codemirror_mode": {
    "name": "ipython",
    "version": 3
   },
   "file_extension": ".py",
   "mimetype": "text/x-python",
   "name": "python",
   "nbconvert_exporter": "python",
   "pygments_lexer": "ipython3",
   "version": "3.8.16"
  }
 },
 "nbformat": 4,
 "nbformat_minor": 5
}

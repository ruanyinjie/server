{
 "cells": [
  {
   "cell_type": "code",
   "execution_count": 3,
   "id": "bb1692c2",
   "metadata": {},
   "outputs": [],
   "source": [
    "import requests\n",
    "from PIL import Image\n",
    "import matplotlib.pyplot as plt"
   ]
  },
  {
   "cell_type": "code",
   "execution_count": 4,
   "id": "d8a964b6",
   "metadata": {},
   "outputs": [],
   "source": [
    "# 上传图片并获取识别结果\n",
    "def recognize_digit(ip_address,image_path):\n",
    "    url = 'http://{ip_address}:5000/predict'\n",
    "    files = {'image': open(image_path, 'rb')}\n",
    "    response = requests.post(url, files=files)\n",
    "    result = response.json()['result']\n",
    "    return result"
   ]
  },
  {
   "cell_type": "code",
   "execution_count": 5,
   "id": "f1e03552",
   "metadata": {},
   "outputs": [],
   "source": [
    "def get_server_ip_address():\n",
    "    use_default = input(\"是否使用官方服务器？(y/n): \")\n",
    "    \n",
    "    if use_default.lower() == \"y\":\n",
    "        ip_address = \"192.168.0.1\"  # 默认的服务器IP地址\n",
    "    else:\n",
    "        ip_address = input(\"请输入服务器IP地址: \")\n",
    "    \n",
    "    return ip_address"
   ]
  },
  {
   "cell_type": "code",
   "execution_count": 6,
   "id": "5e876823",
   "metadata": {},
   "outputs": [],
   "source": [
    "# 显示图片和识别结果\n",
    "def show_image_with_result(image_path, result):\n",
    "    image = Image.open(image_path)\n",
    "    plt.imshow(image)\n",
    "    plt.title('识别结果: ' + result)\n",
    "    plt.axis('off')\n",
    "    plt.show()\n",
    "\n"
   ]
  },
  {
   "cell_type": "code",
   "execution_count": 7,
   "id": "c696ce26",
   "metadata": {},
   "outputs": [],
   "source": [
    "# 选择并上传图片\n",
    "def upload_image():\n",
    "    from google.colab import files\n",
    "    uploaded = files.upload()\n",
    "    image_path = list(uploaded.keys())[0]\n",
    "    return image_path\n",
    "\n"
   ]
  },
  {
   "cell_type": "code",
   "execution_count": 8,
   "id": "e8eb309b",
   "metadata": {},
   "outputs": [],
   "source": [
    "# 主函数\n",
    "def main():\n",
    "    image_path = upload_image()\n",
    "    ip_address = get_server_ip_address()\n",
    "    result = recognize_digit(ip_address,image_path)\n",
    "    show_image_with_result(image_path, result)\n",
    "\n"
   ]
  },
  {
   "cell_type": "code",
   "execution_count": null,
   "id": "0046f2c3",
   "metadata": {},
   "outputs": [],
   "source": [
    "# 运行主函数\n",
    "main()"
   ]
  }
 ],
 "metadata": {
  "kernelspec": {
   "display_name": "Python 3 (ipykernel)",
   "language": "python",
   "name": "python3"
  },
  "language_info": {
   "codemirror_mode": {
    "name": "ipython",
    "version": 3
   },
   "file_extension": ".py",
   "mimetype": "text/x-python",
   "name": "python",
   "nbconvert_exporter": "python",
   "pygments_lexer": "ipython3",
   "version": "3.8.16"
  }
 },
 "nbformat": 4,
 "nbformat_minor": 5
}

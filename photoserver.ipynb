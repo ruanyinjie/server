{
 "cells": [
  {
   "cell_type": "code",
   "execution_count": 2,
   "id": "5e29c028",
   "metadata": {},
   "outputs": [],
   "source": [
    "from flask import Flask, request, jsonify\n"
   ]
  },
  {
   "cell_type": "code",
   "execution_count": 3,
   "id": "dbc31e03",
   "metadata": {},
   "outputs": [],
   "source": [
    "import numpy as np\n"
   ]
  },
  {
   "cell_type": "code",
   "execution_count": 4,
   "id": "b0843cbd",
   "metadata": {},
   "outputs": [],
   "source": [
    "import torch\n"
   ]
  },
  {
   "cell_type": "code",
   "execution_count": 5,
   "id": "6d233f1d",
   "metadata": {},
   "outputs": [],
   "source": [
    "from PIL import Image\n"
   ]
  },
  {
   "cell_type": "code",
   "execution_count": 6,
   "id": "673845d4",
   "metadata": {},
   "outputs": [],
   "source": [
    "import torchvision.transforms as transforms"
   ]
  },
  {
   "cell_type": "code",
   "execution_count": null,
   "id": "5932a815",
   "metadata": {},
   "outputs": [],
   "source": [
    "# 加载模型和权重参数\n",
    "model = torch.load('path_to_model.pth')\n",
    "model.eval()\n",
    "\n",
    "# 图像预处理函数\n",
    "def preprocess_image(image):\n",
    "    transform = transforms.Compose([\n",
    "        transforms.Resize((28, 28)),\n",
    "        transforms.Grayscale(),\n",
    "        transforms.ToTensor(),\n",
    "        transforms.Normalize((0.5,), (0.5,))\n",
    "    ])\n",
    "    image = transform(image)\n",
    "    image = image.unsqueeze(0)\n",
    "    return image\n",
    "\n",
    "# 创建Flask应用\n",
    "app = Flask(__name__)\n",
    "\n",
    "# 定义API接口\n",
    "@app.route('/predict', methods=['POST'])\n",
    "def predict():\n",
    "    # 接收客户端传入的图片\n",
    "    image_file = request.files['image']\n",
    "    image = Image.open(image_file)\n",
    "\n",
    "    # 图像预处理\n",
    "    image = preprocess_image(image)\n",
    "\n",
    "    # 执行数字识别\n",
    "    with torch.no_grad():\n",
    "        output = model(image)\n",
    "        _, predicted = torch.max(output, 1)\n",
    "        prediction = predicted.item()\n",
    "\n",
    "    # 返回识别结果\n",
    "    result = {'prediction': prediction}\n",
    "    return jsonify(result)\n",
    "\n",
    "# 启动应用\n",
    "if __name__ == '__main__':\n",
    "    app.run(host='0.0.0.0', port=5000)"
   ]
  }
 ],
 "metadata": {
  "kernelspec": {
   "display_name": "Python 3 (ipykernel)",
   "language": "python",
   "name": "python3"
  },
  "language_info": {
   "codemirror_mode": {
    "name": "ipython",
    "version": 3
   },
   "file_extension": ".py",
   "mimetype": "text/x-python",
   "name": "python",
   "nbconvert_exporter": "python",
   "pygments_lexer": "ipython3",
   "version": "3.8.16"
  }
 },
 "nbformat": 4,
 "nbformat_minor": 5
}

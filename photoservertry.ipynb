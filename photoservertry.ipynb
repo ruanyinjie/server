{
 "cells": [
  {
   "cell_type": "code",
   "execution_count": 1,
   "id": "f018a983",
   "metadata": {},
   "outputs": [],
   "source": [
    "\n",
    "from flask import Flask, request, jsonify\n",
    "\n",
    "\n",
    "\n",
    "\n",
    "\n"
   ]
  },
  {
   "cell_type": "code",
   "execution_count": 2,
   "id": "337b25fc",
   "metadata": {},
   "outputs": [],
   "source": [
    "import numpy as np"
   ]
  },
  {
   "cell_type": "code",
   "execution_count": 3,
   "id": "41fa8d43",
   "metadata": {},
   "outputs": [],
   "source": [
    "import torch\n"
   ]
  },
  {
   "cell_type": "code",
   "execution_count": 4,
   "id": "70e66d67",
   "metadata": {},
   "outputs": [],
   "source": [
    "from PIL import Image"
   ]
  },
  {
   "cell_type": "code",
   "execution_count": 6,
   "id": "d4e026a8",
   "metadata": {},
   "outputs": [],
   "source": [
    "import torchvision.transforms as transforms"
   ]
  },
  {
   "cell_type": "code",
   "execution_count": 7,
   "id": "5334c889",
   "metadata": {},
   "outputs": [],
   "source": [
    "import torch.nn as nn\n",
    "\n",
    "class YourModelClass(nn.Module):\n",
    "    def __init__(self):\n",
    "        super(YourModelClass, self).__init__()\n",
    "        self.conv1 = nn.Sequential(\n",
    "            nn.Conv2d(1, 16, kernel_size=5, stride=1, padding=1),\n",
    "            nn.ReLU()\n",
    "        )\n",
    "        self.conv2 = nn.Sequential(\n",
    "            nn.Conv2d(16, 32, kernel_size=5, stride=1, padding=1),\n",
    "            nn.ReLU()\n",
    "        )\n",
    "        self.out = nn.Linear(32 * 7 * 7, 10)\n",
    "\n",
    "    def forward(self, x):\n",
    "        x = self.conv1(x)\n",
    "        x = self.conv2(x)\n",
    "        x = x.view(x.size(0), -1)\n",
    "        output = self.out(x)\n",
    "        return output"
   ]
  },
  {
   "cell_type": "code",
   "execution_count": 8,
   "id": "4b7b4194",
   "metadata": {},
   "outputs": [
    {
     "data": {
      "text/plain": [
       "YourModelClass(\n",
       "  (conv1): Sequential(\n",
       "    (0): Conv2d(1, 16, kernel_size=(5, 5), stride=(1, 1), padding=(1, 1))\n",
       "    (1): ReLU()\n",
       "  )\n",
       "  (conv2): Sequential(\n",
       "    (0): Conv2d(16, 32, kernel_size=(5, 5), stride=(1, 1), padding=(1, 1))\n",
       "    (1): ReLU()\n",
       "  )\n",
       "  (out): Linear(in_features=1568, out_features=10, bias=True)\n",
       ")"
      ]
     },
     "execution_count": 8,
     "metadata": {},
     "output_type": "execute_result"
    }
   ],
   "source": [
    "model_state = torch.load('model.pth')\n",
    "    \n",
    "    # 创建模型\n",
    "model = YourModelClass()  # 替换为您的模型类\n",
    "    \n",
    "# 加载模型参数\n",
    "model.load_state_dict(model_state)\n",
    "model.eval()"
   ]
  },
  {
   "cell_type": "code",
   "execution_count": null,
   "id": "cb97dc06",
   "metadata": {},
   "outputs": [
    {
     "name": "stdout",
     "output_type": "stream",
     "text": [
      " * Serving Flask app '__main__'\n",
      " * Debug mode: off\n"
     ]
    },
    {
     "name": "stderr",
     "output_type": "stream",
     "text": [
      "WARNING: This is a development server. Do not use it in a production deployment. Use a production WSGI server instead.\n",
      " * Running on all addresses (0.0.0.0)\n",
      " * Running on http://127.0.0.1:5000\n",
      " * Running on http://10.107.93.54:5000\n",
      "Press CTRL+C to quit\n",
      "[2024-05-14 11:50:15,102] ERROR in app: Exception on /predict [POST]\n",
      "Traceback (most recent call last):\n",
      "  File \"C:\\Users\\yinjie\\anaconda3\\lib\\site-packages\\werkzeug\\datastructures.py\", line 3023, in __getattr__\n",
      "    return getattr(self.stream, name)\n",
      "AttributeError: 'SpooledTemporaryFile' object has no attribute 'file'\n",
      "\n",
      "During handling of the above exception, another exception occurred:\n",
      "\n",
      "Traceback (most recent call last):\n",
      "  File \"C:\\Users\\yinjie\\anaconda3\\lib\\site-packages\\flask\\app.py\", line 2525, in wsgi_app\n",
      "    response = self.full_dispatch_request()\n",
      "  File \"C:\\Users\\yinjie\\anaconda3\\lib\\site-packages\\flask\\app.py\", line 1822, in full_dispatch_request\n",
      "    rv = self.handle_user_exception(e)\n",
      "  File \"C:\\Users\\yinjie\\anaconda3\\lib\\site-packages\\flask\\app.py\", line 1820, in full_dispatch_request\n",
      "    rv = self.dispatch_request()\n",
      "  File \"C:\\Users\\yinjie\\anaconda3\\lib\\site-packages\\flask\\app.py\", line 1796, in dispatch_request\n",
      "    return self.ensure_sync(self.view_functions[rule.endpoint])(**view_args)\n",
      "  File \"C:\\Users\\yinjie\\AppData\\Local\\Temp\\ipykernel_10980\\1981960165.py\", line 27, in predict\n",
      "    image = Image.open(image_file.file)\n",
      "  File \"C:\\Users\\yinjie\\anaconda3\\lib\\site-packages\\werkzeug\\datastructures.py\", line 3029, in __getattr__\n",
      "    return getattr(self.stream._file, name)\n",
      "AttributeError: '_io.BytesIO' object has no attribute 'file'\n",
      "127.0.0.1 - - [14/May/2024 11:50:15] \"POST /predict HTTP/1.1\" 500 -\n"
     ]
    }
   ],
   "source": [
    "# 图像预处理函数\n",
    "def preprocess_image(image_path):\n",
    "    # 打开图像\n",
    "    image = Image.open(image_path)\n",
    "    \n",
    "    # 进行图像预处理操作，例如调整大小、灰度化、归一化等\n",
    "    transform = transforms.Compose([\n",
    "        transforms.Resize((28, 28)),\n",
    "        transforms.Grayscale(),\n",
    "        transforms.ToTensor(),\n",
    "        transforms.Normalize((0.5,), (0.5,))\n",
    "    ])\n",
    "    image = transform(image)\n",
    "    image = image.unsqueeze(0)\n",
    "    \n",
    "    # 返回预处理后的图像\n",
    "    return image\n",
    "\n",
    "# 创建Flask应用\n",
    "app = Flask(__name__)\n",
    "\n",
    "# 定义API接口\n",
    "@app.route('/predict', methods=['POST'])\n",
    "def predict():\n",
    "    # 接收客户端传入的图片\n",
    "    image_file = request.files['image']\n",
    "    image = Image.open(image_file.file)\n",
    "\n",
    "    # 图像预处理\n",
    "    image = preprocess_image(image)\n",
    "\n",
    "    # 执行数字识别\n",
    "    with torch.no_grad():\n",
    "        output = model(image)\n",
    "        _, predicted = torch.max(output, 1)\n",
    "        prediction = predicted.item()\n",
    "\n",
    "    # 返回识别结果\n",
    "    result = {'prediction': prediction}\n",
    "    return jsonify(result)\n",
    "\n",
    "# 启动应用\n",
    "if __name__ == '__main__':\n",
    "    app.run(host='0.0.0.0', port=5000)"
   ]
  },
  {
   "cell_type": "code",
   "execution_count": null,
   "id": "4b4af1c7",
   "metadata": {},
   "outputs": [],
   "source": []
  }
 ],
 "metadata": {
  "kernelspec": {
   "display_name": "Python 3 (ipykernel)",
   "language": "python",
   "name": "python3"
  },
  "language_info": {
   "codemirror_mode": {
    "name": "ipython",
    "version": 3
   },
   "file_extension": ".py",
   "mimetype": "text/x-python",
   "name": "python",
   "nbconvert_exporter": "python",
   "pygments_lexer": "ipython3",
   "version": "3.8.16"
  }
 },
 "nbformat": 4,
 "nbformat_minor": 5
}
